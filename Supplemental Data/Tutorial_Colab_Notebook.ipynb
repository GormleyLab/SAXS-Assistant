{
  "nbformat": 4,
  "nbformat_minor": 0,
  "metadata": {
    "colab": {
      "provenance": []
    },
    "kernelspec": {
      "name": "python3",
      "display_name": "Python 3"
    },
    "language_info": {
      "name": "python"
    }
  },
  "cells": [
    {
      "cell_type": "markdown",
      "source": [
        "#Getting started right away -- First Install\n",
        "\n",
        "\n",
        "\n",
        "This will ask to restart session, if that's not the case, go to runtime tab and restart the session so can use the package. This can be done on your local computer too if have python installed, I like Colab because can be useful when running a lot of data as can run multiple instances of the script. At the end the script can also organize that data which I will show later.\n",
        "\n",
        "\n",
        "Can also run this directly in python by using the main.py script, if you do this, its probably easier to use a JSON to indicate the inputs to the analysis function I have a json file example there, this takes the same inputs, as path and an optional output path, and start and end indices, but pip installing is proably the easiest. Can do this that I showed here on your local environment. Just don't use the **!** before pip"
      ],
      "metadata": {
        "id": "t7py4skqMyaB"
      }
    },
    {
      "cell_type": "code",
      "execution_count": 1,
      "metadata": {
        "colab": {
          "base_uri": "https://localhost:8080/",
          "height": 0
        },
        "id": "X17h5_TNMeN3",
        "outputId": "400d1874-29d4-4575-d4e5-f39a27e9d430"
      },
      "outputs": [
        {
          "output_type": "stream",
          "name": "stdout",
          "text": [
            "Requirement already satisfied: saxs-assistant in /usr/local/lib/python3.11/dist-packages (0.1.2)\n",
            "Requirement already satisfied: pandas==2.2.2 in /usr/local/lib/python3.11/dist-packages (from saxs-assistant) (2.2.2)\n",
            "Requirement already satisfied: joblib==1.5.1 in /usr/local/lib/python3.11/dist-packages (from saxs-assistant) (1.5.1)\n",
            "Requirement already satisfied: matplotlib==3.10.3 in /usr/local/lib/python3.11/dist-packages (from saxs-assistant) (3.10.3)\n",
            "Requirement already satisfied: numba<0.62,>=0.59 in /usr/local/lib/python3.11/dist-packages (from saxs-assistant) (0.60.0)\n",
            "Requirement already satisfied: numpy<3.0.0,>=2.0.0 in /usr/local/lib/python3.11/dist-packages (from saxs-assistant) (2.0.2)\n",
            "Requirement already satisfied: scikit-learn==1.6.1 in /usr/local/lib/python3.11/dist-packages (from saxs-assistant) (1.6.1)\n",
            "Requirement already satisfied: scipy==1.15.3 in /usr/local/lib/python3.11/dist-packages (from saxs-assistant) (1.15.3)\n",
            "Requirement already satisfied: tqdm==4.67.1 in /usr/local/lib/python3.11/dist-packages (from saxs-assistant) (4.67.1)\n",
            "Requirement already satisfied: openpyxl==3.1.5 in /usr/local/lib/python3.11/dist-packages (from saxs-assistant) (3.1.5)\n",
            "Requirement already satisfied: pillow==11.2.1 in /usr/local/lib/python3.11/dist-packages (from saxs-assistant) (11.2.1)\n",
            "Requirement already satisfied: requests<3,>=2.32 in /usr/local/lib/python3.11/dist-packages (from saxs-assistant) (2.32.3)\n",
            "Requirement already satisfied: natsort in /usr/local/lib/python3.11/dist-packages (from saxs-assistant) (8.4.0)\n",
            "Requirement already satisfied: contourpy>=1.0.1 in /usr/local/lib/python3.11/dist-packages (from matplotlib==3.10.3->saxs-assistant) (1.3.2)\n",
            "Requirement already satisfied: cycler>=0.10 in /usr/local/lib/python3.11/dist-packages (from matplotlib==3.10.3->saxs-assistant) (0.12.1)\n",
            "Requirement already satisfied: fonttools>=4.22.0 in /usr/local/lib/python3.11/dist-packages (from matplotlib==3.10.3->saxs-assistant) (4.58.4)\n",
            "Requirement already satisfied: kiwisolver>=1.3.1 in /usr/local/lib/python3.11/dist-packages (from matplotlib==3.10.3->saxs-assistant) (1.4.8)\n",
            "Requirement already satisfied: packaging>=20.0 in /usr/local/lib/python3.11/dist-packages (from matplotlib==3.10.3->saxs-assistant) (24.2)\n",
            "Requirement already satisfied: pyparsing>=2.3.1 in /usr/local/lib/python3.11/dist-packages (from matplotlib==3.10.3->saxs-assistant) (3.2.3)\n",
            "Requirement already satisfied: python-dateutil>=2.7 in /usr/local/lib/python3.11/dist-packages (from matplotlib==3.10.3->saxs-assistant) (2.9.0.post0)\n",
            "Requirement already satisfied: et-xmlfile in /usr/local/lib/python3.11/dist-packages (from openpyxl==3.1.5->saxs-assistant) (2.0.0)\n",
            "Requirement already satisfied: pytz>=2020.1 in /usr/local/lib/python3.11/dist-packages (from pandas==2.2.2->saxs-assistant) (2025.2)\n",
            "Requirement already satisfied: tzdata>=2022.7 in /usr/local/lib/python3.11/dist-packages (from pandas==2.2.2->saxs-assistant) (2025.2)\n",
            "Requirement already satisfied: threadpoolctl>=3.1.0 in /usr/local/lib/python3.11/dist-packages (from scikit-learn==1.6.1->saxs-assistant) (3.6.0)\n",
            "Requirement already satisfied: llvmlite<0.44,>=0.43.0dev0 in /usr/local/lib/python3.11/dist-packages (from numba<0.62,>=0.59->saxs-assistant) (0.43.0)\n",
            "Requirement already satisfied: charset-normalizer<4,>=2 in /usr/local/lib/python3.11/dist-packages (from requests<3,>=2.32->saxs-assistant) (3.4.2)\n",
            "Requirement already satisfied: idna<4,>=2.5 in /usr/local/lib/python3.11/dist-packages (from requests<3,>=2.32->saxs-assistant) (3.10)\n",
            "Requirement already satisfied: urllib3<3,>=1.21.1 in /usr/local/lib/python3.11/dist-packages (from requests<3,>=2.32->saxs-assistant) (2.4.0)\n",
            "Requirement already satisfied: certifi>=2017.4.17 in /usr/local/lib/python3.11/dist-packages (from requests<3,>=2.32->saxs-assistant) (2025.6.15)\n",
            "Requirement already satisfied: six>=1.5 in /usr/local/lib/python3.11/dist-packages (from python-dateutil>=2.7->matplotlib==3.10.3->saxs-assistant) (1.17.0)\n"
          ]
        }
      ],
      "source": [
        "!pip install saxs-assistant"
      ]
    },
    {
      "cell_type": "markdown",
      "source": [
        "#Preparing an Input sheet\n",
        "\n",
        "SAXS Assistant requires a dataframe (Excel sheet) that has the path to the directory where each file is under the \"path\" column. The file name also is needed, which should be listed under the \"file name\" column as well as the angular unit \"1/A\" or \"1/nm\". If you have a pre-existing excel sheet with these can use that, just make sure that the column names match. The order at which these appear will be the order at which the script will solve the files, and plot the summary plots. Therefore if you want to see certain samples next to each other organize it in that manner. Here we are going to assume that we don't have that dataframe and don't care for the order. In that case the script can prepare this for us using the prepare_dataframe() function. For this you just need to indicate the directory (Folder) where your .dat profiles are. If haven't done yet, connect your Google drive and upload the folder with profiles. Its useful to make folder for each analysis, then upload the folder with profiles there. --- If doing this, your files should all have the same angular units or you will need to go back and manually correct as this asks for the angular unit assuming they all are in the same units.\n",
        "\n",
        "The folder must only have SAXS profiles or will cause an error when trying plot in the later stages.The Excel sheet won't be affect but will have an entry not belonging to a profile. No need to truncate prior, the script will only look at q<0.25 A\n",
        "\n"
      ],
      "metadata": {
        "id": "h0rJ1l4_NEyp"
      }
    },
    {
      "cell_type": "code",
      "source": [
        "from saxs_assistant.runner import prepare_dataframe\n",
        "#Here this is a folder where I uploaded a folder having profiles, I am passing the path to the profiles folder\n",
        "df = prepare_dataframe(folder_path='/content/drive/MyDrive/pip test/DCR 273  results/DCR 273 Nov 2024', angular_unit='1/A') #This results in no print\n",
        "prepare_dataframe(folder_path='/content/drive/MyDrive/pip test/DCR 273  results/DCR 273 Nov 2024',angular_unit='1/A') #If not assign to varibale will print out\n",
        "#Either way, both save it to the same folder where the profiles folder is\n",
        "df.head()"
      ],
      "metadata": {
        "colab": {
          "base_uri": "https://localhost:8080/",
          "height": 279
        },
        "id": "xQAqDbUDOXxw",
        "outputId": "463ba2f3-0c68-4d8b-b74a-9154d4383cfc"
      },
      "execution_count": 2,
      "outputs": [
        {
          "output_type": "stream",
          "name": "stdout",
          "text": [
            "folder_path before parsing: /content/drive/MyDrive/pip test/DCR 273  results/DCR 273 Nov 2024\n",
            "Saved cleaned dataframe to: /content/drive/MyDrive/pip test/DCR 273  results/input_df_Jun_30_25.xlsx\n",
            "folder_path before parsing: /content/drive/MyDrive/pip test/DCR 273  results/DCR 273 Nov 2024\n",
            "Saved cleaned dataframe to: /content/drive/MyDrive/pip test/DCR 273  results/input_df_Jun_30_25.xlsx\n"
          ]
        },
        {
          "output_type": "execute_result",
          "data": {
            "text/plain": [
              "                   file name  \\\n",
              "0  Chris_bIgG_Ace_C120_s.dat   \n",
              "1   Chris_bIgG_Ace_C20_s.dat   \n",
              "2   Chris_bIgG_Ace_C40_a.dat   \n",
              "3   Chris_bIgG_Ace_C60_a.dat   \n",
              "4    Chris_bIgG_F1_C10_s.dat   \n",
              "\n",
              "                                                path Angular unit  \n",
              "0  /content/drive/MyDrive/pip test/DCR 273  resul...          1/A  \n",
              "1  /content/drive/MyDrive/pip test/DCR 273  resul...          1/A  \n",
              "2  /content/drive/MyDrive/pip test/DCR 273  resul...          1/A  \n",
              "3  /content/drive/MyDrive/pip test/DCR 273  resul...          1/A  \n",
              "4  /content/drive/MyDrive/pip test/DCR 273  resul...          1/A  "
            ],
            "text/html": [
              "\n",
              "  <div id=\"df-38f55f3f-7de2-4667-8d67-464f65e18b25\" class=\"colab-df-container\">\n",
              "    <div>\n",
              "<style scoped>\n",
              "    .dataframe tbody tr th:only-of-type {\n",
              "        vertical-align: middle;\n",
              "    }\n",
              "\n",
              "    .dataframe tbody tr th {\n",
              "        vertical-align: top;\n",
              "    }\n",
              "\n",
              "    .dataframe thead th {\n",
              "        text-align: right;\n",
              "    }\n",
              "</style>\n",
              "<table border=\"1\" class=\"dataframe\">\n",
              "  <thead>\n",
              "    <tr style=\"text-align: right;\">\n",
              "      <th></th>\n",
              "      <th>file name</th>\n",
              "      <th>path</th>\n",
              "      <th>Angular unit</th>\n",
              "    </tr>\n",
              "  </thead>\n",
              "  <tbody>\n",
              "    <tr>\n",
              "      <th>0</th>\n",
              "      <td>Chris_bIgG_Ace_C120_s.dat</td>\n",
              "      <td>/content/drive/MyDrive/pip test/DCR 273  resul...</td>\n",
              "      <td>1/A</td>\n",
              "    </tr>\n",
              "    <tr>\n",
              "      <th>1</th>\n",
              "      <td>Chris_bIgG_Ace_C20_s.dat</td>\n",
              "      <td>/content/drive/MyDrive/pip test/DCR 273  resul...</td>\n",
              "      <td>1/A</td>\n",
              "    </tr>\n",
              "    <tr>\n",
              "      <th>2</th>\n",
              "      <td>Chris_bIgG_Ace_C40_a.dat</td>\n",
              "      <td>/content/drive/MyDrive/pip test/DCR 273  resul...</td>\n",
              "      <td>1/A</td>\n",
              "    </tr>\n",
              "    <tr>\n",
              "      <th>3</th>\n",
              "      <td>Chris_bIgG_Ace_C60_a.dat</td>\n",
              "      <td>/content/drive/MyDrive/pip test/DCR 273  resul...</td>\n",
              "      <td>1/A</td>\n",
              "    </tr>\n",
              "    <tr>\n",
              "      <th>4</th>\n",
              "      <td>Chris_bIgG_F1_C10_s.dat</td>\n",
              "      <td>/content/drive/MyDrive/pip test/DCR 273  resul...</td>\n",
              "      <td>1/A</td>\n",
              "    </tr>\n",
              "  </tbody>\n",
              "</table>\n",
              "</div>\n",
              "    <div class=\"colab-df-buttons\">\n",
              "\n",
              "  <div class=\"colab-df-container\">\n",
              "    <button class=\"colab-df-convert\" onclick=\"convertToInteractive('df-38f55f3f-7de2-4667-8d67-464f65e18b25')\"\n",
              "            title=\"Convert this dataframe to an interactive table.\"\n",
              "            style=\"display:none;\">\n",
              "\n",
              "  <svg xmlns=\"http://www.w3.org/2000/svg\" height=\"24px\" viewBox=\"0 -960 960 960\">\n",
              "    <path d=\"M120-120v-720h720v720H120Zm60-500h600v-160H180v160Zm220 220h160v-160H400v160Zm0 220h160v-160H400v160ZM180-400h160v-160H180v160Zm440 0h160v-160H620v160ZM180-180h160v-160H180v160Zm440 0h160v-160H620v160Z\"/>\n",
              "  </svg>\n",
              "    </button>\n",
              "\n",
              "  <style>\n",
              "    .colab-df-container {\n",
              "      display:flex;\n",
              "      gap: 12px;\n",
              "    }\n",
              "\n",
              "    .colab-df-convert {\n",
              "      background-color: #E8F0FE;\n",
              "      border: none;\n",
              "      border-radius: 50%;\n",
              "      cursor: pointer;\n",
              "      display: none;\n",
              "      fill: #1967D2;\n",
              "      height: 32px;\n",
              "      padding: 0 0 0 0;\n",
              "      width: 32px;\n",
              "    }\n",
              "\n",
              "    .colab-df-convert:hover {\n",
              "      background-color: #E2EBFA;\n",
              "      box-shadow: 0px 1px 2px rgba(60, 64, 67, 0.3), 0px 1px 3px 1px rgba(60, 64, 67, 0.15);\n",
              "      fill: #174EA6;\n",
              "    }\n",
              "\n",
              "    .colab-df-buttons div {\n",
              "      margin-bottom: 4px;\n",
              "    }\n",
              "\n",
              "    [theme=dark] .colab-df-convert {\n",
              "      background-color: #3B4455;\n",
              "      fill: #D2E3FC;\n",
              "    }\n",
              "\n",
              "    [theme=dark] .colab-df-convert:hover {\n",
              "      background-color: #434B5C;\n",
              "      box-shadow: 0px 1px 3px 1px rgba(0, 0, 0, 0.15);\n",
              "      filter: drop-shadow(0px 1px 2px rgba(0, 0, 0, 0.3));\n",
              "      fill: #FFFFFF;\n",
              "    }\n",
              "  </style>\n",
              "\n",
              "    <script>\n",
              "      const buttonEl =\n",
              "        document.querySelector('#df-38f55f3f-7de2-4667-8d67-464f65e18b25 button.colab-df-convert');\n",
              "      buttonEl.style.display =\n",
              "        google.colab.kernel.accessAllowed ? 'block' : 'none';\n",
              "\n",
              "      async function convertToInteractive(key) {\n",
              "        const element = document.querySelector('#df-38f55f3f-7de2-4667-8d67-464f65e18b25');\n",
              "        const dataTable =\n",
              "          await google.colab.kernel.invokeFunction('convertToInteractive',\n",
              "                                                    [key], {});\n",
              "        if (!dataTable) return;\n",
              "\n",
              "        const docLinkHtml = 'Like what you see? Visit the ' +\n",
              "          '<a target=\"_blank\" href=https://colab.research.google.com/notebooks/data_table.ipynb>data table notebook</a>'\n",
              "          + ' to learn more about interactive tables.';\n",
              "        element.innerHTML = '';\n",
              "        dataTable['output_type'] = 'display_data';\n",
              "        await google.colab.output.renderOutput(dataTable, element);\n",
              "        const docLink = document.createElement('div');\n",
              "        docLink.innerHTML = docLinkHtml;\n",
              "        element.appendChild(docLink);\n",
              "      }\n",
              "    </script>\n",
              "  </div>\n",
              "\n",
              "\n",
              "    <div id=\"df-950cfb1a-9017-4749-af65-a1f68ec448e9\">\n",
              "      <button class=\"colab-df-quickchart\" onclick=\"quickchart('df-950cfb1a-9017-4749-af65-a1f68ec448e9')\"\n",
              "                title=\"Suggest charts\"\n",
              "                style=\"display:none;\">\n",
              "\n",
              "<svg xmlns=\"http://www.w3.org/2000/svg\" height=\"24px\"viewBox=\"0 0 24 24\"\n",
              "     width=\"24px\">\n",
              "    <g>\n",
              "        <path d=\"M19 3H5c-1.1 0-2 .9-2 2v14c0 1.1.9 2 2 2h14c1.1 0 2-.9 2-2V5c0-1.1-.9-2-2-2zM9 17H7v-7h2v7zm4 0h-2V7h2v10zm4 0h-2v-4h2v4z\"/>\n",
              "    </g>\n",
              "</svg>\n",
              "      </button>\n",
              "\n",
              "<style>\n",
              "  .colab-df-quickchart {\n",
              "      --bg-color: #E8F0FE;\n",
              "      --fill-color: #1967D2;\n",
              "      --hover-bg-color: #E2EBFA;\n",
              "      --hover-fill-color: #174EA6;\n",
              "      --disabled-fill-color: #AAA;\n",
              "      --disabled-bg-color: #DDD;\n",
              "  }\n",
              "\n",
              "  [theme=dark] .colab-df-quickchart {\n",
              "      --bg-color: #3B4455;\n",
              "      --fill-color: #D2E3FC;\n",
              "      --hover-bg-color: #434B5C;\n",
              "      --hover-fill-color: #FFFFFF;\n",
              "      --disabled-bg-color: #3B4455;\n",
              "      --disabled-fill-color: #666;\n",
              "  }\n",
              "\n",
              "  .colab-df-quickchart {\n",
              "    background-color: var(--bg-color);\n",
              "    border: none;\n",
              "    border-radius: 50%;\n",
              "    cursor: pointer;\n",
              "    display: none;\n",
              "    fill: var(--fill-color);\n",
              "    height: 32px;\n",
              "    padding: 0;\n",
              "    width: 32px;\n",
              "  }\n",
              "\n",
              "  .colab-df-quickchart:hover {\n",
              "    background-color: var(--hover-bg-color);\n",
              "    box-shadow: 0 1px 2px rgba(60, 64, 67, 0.3), 0 1px 3px 1px rgba(60, 64, 67, 0.15);\n",
              "    fill: var(--button-hover-fill-color);\n",
              "  }\n",
              "\n",
              "  .colab-df-quickchart-complete:disabled,\n",
              "  .colab-df-quickchart-complete:disabled:hover {\n",
              "    background-color: var(--disabled-bg-color);\n",
              "    fill: var(--disabled-fill-color);\n",
              "    box-shadow: none;\n",
              "  }\n",
              "\n",
              "  .colab-df-spinner {\n",
              "    border: 2px solid var(--fill-color);\n",
              "    border-color: transparent;\n",
              "    border-bottom-color: var(--fill-color);\n",
              "    animation:\n",
              "      spin 1s steps(1) infinite;\n",
              "  }\n",
              "\n",
              "  @keyframes spin {\n",
              "    0% {\n",
              "      border-color: transparent;\n",
              "      border-bottom-color: var(--fill-color);\n",
              "      border-left-color: var(--fill-color);\n",
              "    }\n",
              "    20% {\n",
              "      border-color: transparent;\n",
              "      border-left-color: var(--fill-color);\n",
              "      border-top-color: var(--fill-color);\n",
              "    }\n",
              "    30% {\n",
              "      border-color: transparent;\n",
              "      border-left-color: var(--fill-color);\n",
              "      border-top-color: var(--fill-color);\n",
              "      border-right-color: var(--fill-color);\n",
              "    }\n",
              "    40% {\n",
              "      border-color: transparent;\n",
              "      border-right-color: var(--fill-color);\n",
              "      border-top-color: var(--fill-color);\n",
              "    }\n",
              "    60% {\n",
              "      border-color: transparent;\n",
              "      border-right-color: var(--fill-color);\n",
              "    }\n",
              "    80% {\n",
              "      border-color: transparent;\n",
              "      border-right-color: var(--fill-color);\n",
              "      border-bottom-color: var(--fill-color);\n",
              "    }\n",
              "    90% {\n",
              "      border-color: transparent;\n",
              "      border-bottom-color: var(--fill-color);\n",
              "    }\n",
              "  }\n",
              "</style>\n",
              "\n",
              "      <script>\n",
              "        async function quickchart(key) {\n",
              "          const quickchartButtonEl =\n",
              "            document.querySelector('#' + key + ' button');\n",
              "          quickchartButtonEl.disabled = true;  // To prevent multiple clicks.\n",
              "          quickchartButtonEl.classList.add('colab-df-spinner');\n",
              "          try {\n",
              "            const charts = await google.colab.kernel.invokeFunction(\n",
              "                'suggestCharts', [key], {});\n",
              "          } catch (error) {\n",
              "            console.error('Error during call to suggestCharts:', error);\n",
              "          }\n",
              "          quickchartButtonEl.classList.remove('colab-df-spinner');\n",
              "          quickchartButtonEl.classList.add('colab-df-quickchart-complete');\n",
              "        }\n",
              "        (() => {\n",
              "          let quickchartButtonEl =\n",
              "            document.querySelector('#df-950cfb1a-9017-4749-af65-a1f68ec448e9 button');\n",
              "          quickchartButtonEl.style.display =\n",
              "            google.colab.kernel.accessAllowed ? 'block' : 'none';\n",
              "        })();\n",
              "      </script>\n",
              "    </div>\n",
              "\n",
              "    </div>\n",
              "  </div>\n"
            ],
            "application/vnd.google.colaboratory.intrinsic+json": {
              "type": "dataframe",
              "variable_name": "df",
              "summary": "{\n  \"name\": \"df\",\n  \"rows\": 38,\n  \"fields\": [\n    {\n      \"column\": \"file name\",\n      \"properties\": {\n        \"dtype\": \"string\",\n        \"num_unique_values\": 38,\n        \"samples\": [\n          \"Chris_bIgG_F52_C10_s.dat\",\n          \"Chris_bIgG_Hist_C20_s.dat\",\n          \"Chris_bIgG_F1_C10_s.dat\"\n        ],\n        \"semantic_type\": \"\",\n        \"description\": \"\"\n      }\n    },\n    {\n      \"column\": \"path\",\n      \"properties\": {\n        \"dtype\": \"category\",\n        \"num_unique_values\": 1,\n        \"samples\": [\n          \"/content/drive/MyDrive/pip test/DCR 273  results/DCR 273 Nov 2024/\"\n        ],\n        \"semantic_type\": \"\",\n        \"description\": \"\"\n      }\n    },\n    {\n      \"column\": \"Angular unit\",\n      \"properties\": {\n        \"dtype\": \"category\",\n        \"num_unique_values\": 1,\n        \"samples\": [\n          \"1/A\"\n        ],\n        \"semantic_type\": \"\",\n        \"description\": \"\"\n      }\n    }\n  ]\n}"
            }
          },
          "metadata": {},
          "execution_count": 2
        }
      ]
    },
    {
      "cell_type": "markdown",
      "source": [
        "This will then save the input dataframe to the same directory where the profiles folder is, this is also printed out. Now that we have an input dataframe, we can pass this to the script and this will start analysing. It takes about a minute to start, after that it stabilizes and the estimated time to completion becomes more accurate. The fastest and simplest way is to just run analyze_and_plot_all() This function will generate the Excel with results, the summary plots for both the solved and unsolved files, as well as extract the plotting data, into a new folder called \"return\" which will be added to the same folder where the profiles are. You can copy the path that was printed or go to your directory navigator on the left if using Google colab and copy the path and pass it to the function\n",
        "\n",
        "This function can also take the following inputs\n",
        "***start_index:*** The row of dataframe to start analyzing from\n",
        "***end_index:*** The row of the dataframe to stop analyzing.\n",
        "***music:*** (default is False) This is only available if running in your local computer and do the music package installation, but can have the script play some instrumental while your data is being analyzed and it'll stop when done for some light entertainment. The script will beep when complete regardless\n",
        "\n",
        "Here I'm choosing a range of files that have some flagged files so can see output, bit slow here with this dataset. This will print out the name so can know in the moment, but also in the results excel these will have empty rows or have entries in the \"Fatal Error\" column. The time to completion depends on the data, for very well behaved datasets, this can go through a file in ~ 20 seconds.\n",
        "\n",
        "For every file that errors the progress bar will split and start a new counter, so can keep track of the files that didn't get analyzed. This also prints out a reason, which could be from the start the PDDF-Informed found nothing, but hopefully Auto Guinier will, in this case you'll get the \"No Guinier fits found\" , another arrow that you may see if \"Final Rg selection failed\" or PR that agrees could be found, meaning can't validate w PDDF so gets flagged"
      ],
      "metadata": {
        "id": "VrPl0ti8PxP6"
      }
    },
    {
      "cell_type": "code",
      "source": [
        "from saxs_assistant.runner import analyze_and_plot_all\n",
        "_= analyze_and_plot_all('/content/drive/MyDrive/pip test/DCR 273  results/input_df_Jun_30_25.xlsx',start_index = 4, end_index =20)"
      ],
      "metadata": {
        "colab": {
          "base_uri": "https://localhost:8080/",
          "height": 290
        },
        "id": "L9298SElP5sb",
        "outputId": "a879c398-04b0-4a91-f0e6-683d0603e1e1"
      },
      "execution_count": 1,
      "outputs": [
        {
          "output_type": "stream",
          "name": "stdout",
          "text": [
            " Analyzing: /content/drive/MyDrive/pip test/DCR 273  results/input_df_Jun_30_25.xlsx\n",
            "Using input file: /content/drive/MyDrive/pip test/DCR 273  results/input_df_Jun_30_25.xlsx\n",
            "Saving results to: /content/drive/MyDrive/pip test/DCR 273  results/return\n",
            "Start Time: 2025-06-30 00:52:03\n"
          ]
        },
        {
          "output_type": "stream",
          "name": "stderr",
          "text": [
            "Running SAXS Analysis:  31%|███▏      | 5/16 [05:05<11:41, 63.78s/it]WARNING:root:No Guinier fits found for Chris_bIgG_F34_C10_a.dat\n",
            "Running SAXS Analysis: 100%|██████████| 16/16 [16:37<00:00, 62.35s/it]\n"
          ]
        },
        {
          "output_type": "stream",
          "name": "stdout",
          "text": [
            "End Time: 2025-06-30 01:08:41\n",
            "Total Execution Time: 997.58 seconds\n"
          ]
        },
        {
          "output_type": "display_data",
          "data": {
            "text/plain": [
              "<IPython.core.display.Javascript object>"
            ],
            "application/javascript": [
              "\n",
              "      (async () => {\n",
              "          const context = new AudioContext();\n",
              "          const o = context.createOscillator();\n",
              "          const g = context.createGain();\n",
              "          o.type = \"sine\";\n",
              "          o.connect(g);\n",
              "          g.connect(context.destination);\n",
              "          o.start();\n",
              "          g.gain.exponentialRampToValueAtTime(0.00001, context.currentTime + 1);\n",
              "      })();\n",
              "  "
            ]
          },
          "metadata": {}
        },
        {
          "output_type": "stream",
          "name": "stdout",
          "text": [
            " Generating plots from: /content/drive/MyDrive/pip test/DCR 273  results/return/plot_data.joblib\n",
            "Saved PDF summary to /content/drive/MyDrive/pip test/DCR 273  results/return/solved_summary.pdf\n",
            "Saved flagged PDF summary to /content/drive/MyDrive/pip test/DCR 273  results/return/flagged_summary.pdf\n",
            "Now extracting the raw graph data for each plot in the \"plot_data\" dict\n"
          ]
        },
        {
          "output_type": "display_data",
          "data": {
            "text/plain": [
              "<IPython.core.display.Javascript object>"
            ],
            "application/javascript": [
              "\n",
              "      (async () => {\n",
              "          const context = new AudioContext();\n",
              "          const o = context.createOscillator();\n",
              "          const g = context.createGain();\n",
              "          o.type = \"sine\";\n",
              "          o.connect(g);\n",
              "          g.connect(context.destination);\n",
              "          o.start();\n",
              "          g.gain.exponentialRampToValueAtTime(0.00001, context.currentTime + 1);\n",
              "      })();\n",
              "  "
            ]
          },
          "metadata": {}
        },
        {
          "output_type": "stream",
          "name": "stdout",
          "text": [
            "\n",
            "✅ Analysis complete! Results and plots saved to:\n",
            "/content/drive/MyDrive/pip test/DCR 273  results/return\n"
          ]
        }
      ]
    },
    {
      "cell_type": "markdown",
      "source": [
        "This is how the directory looked before I ran the code above\n",
        "\n",
        "![Directory_before runnin.png](data:image/png;base64,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)"
      ],
      "metadata": {
        "id": "1JW35wUkWzyN"
      }
    },
    {
      "cell_type": "markdown",
      "source": [
        "After running, there will now be a folder called return, in this you will have **an Excel sheet** that has all the results. See the folder where this tutorial is stored so can see what each means, as there is quite a bit and most likely one will just be interested in a handful of these, but decided to keep them just in case useful for someone. The will also be **2 PDFs** (or 1 if all data wasn't analyzed or if all was analyzed). One called solved_summary.pdf and the other falgged_summary.pdf, the flagged one could be useful as if no Guinier region is the issue, this could give you an idea of that. The solved_summary has more informative plots, and the ML predictions for Dmax as well as structural classification with GMM (this is all in the Excel sheet too). There will also be a **.joblib dictionary called plot_data.joblib**, keep it there as the script will use this if you want to replot your data later on. Lastly, there will also be** a new folder added by the script called plots** In the folder there is the raw plotting data to recreate all the plots in the summary pdf, (except for the probabilities these are in the Excel)\n",
        "\n",
        "![After running.png](data:image/png;base64,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)"
      ],
      "metadata": {
        "id": "8KNN179sY2Nf"
      }
    },
    {
      "cell_type": "markdown",
      "source": [
        "# Running Multiple Sessions and Organizing\n",
        "\n",
        "As ya'll saw earlier I solved part of the data, and this dataset was a bit slow, so what you can do is run the script on multiple Colab sessions and tell the script to solve individual portions of a dataset. This won't overwrite data, as if there is a return folder there already the script will then save to return_1 and so on increasing by 1. At the end you can organize them all. I will run a few of these now so can show how to combine. At first the script will say its going to save to the return folder as it checks right before saving, as if running in multiple sessions these might finish at different times. Idealy these will finish in order so the dataframe is in oder. This will only work if you don't rename folders or files, and keep them in the way the script outputs them, which might be useful to have a folder for each dataset being solved.----- This run will save in a folder called return_1 as there was already a returns folder."
      ],
      "metadata": {
        "id": "pjNciwmpa-IZ"
      }
    },
    {
      "cell_type": "code",
      "source": [
        "from saxs_assistant.runner import analyze_and_plot_all\n",
        "_= analyze_and_plot_all('/content/drive/MyDrive/pip test/DCR 273  results/input_df_Jun_30_25.xlsx',start_index = 20)"
      ],
      "metadata": {
        "colab": {
          "base_uri": "https://localhost:8080/",
          "height": 363
        },
        "id": "AOWeCPBbbyLj",
        "outputId": "772d353b-0503-413d-fd94-5bd66161d62e"
      },
      "execution_count": 2,
      "outputs": [
        {
          "output_type": "stream",
          "name": "stdout",
          "text": [
            " Analyzing: /content/drive/MyDrive/pip test/DCR 273  results/input_df_Jun_30_25.xlsx\n",
            "Using input file: /content/drive/MyDrive/pip test/DCR 273  results/input_df_Jun_30_25.xlsx\n",
            "Saving results to: /content/drive/MyDrive/pip test/DCR 273  results/return\n",
            "Start Time: 2025-06-30 01:24:46\n"
          ]
        },
        {
          "output_type": "stream",
          "name": "stderr",
          "text": [
            "Running SAXS Analysis:  22%|██▏       | 4/18 [04:05<13:51, 59.42s/it]WARNING:root:No valid P(r) match for Chris_bIgG_F43_C120_s.dat\n",
            "WARNING:root:Failed to extract and select final P(r) for Chris_bIgG_F43_C120_s.dat\n",
            "Running SAXS Analysis:  72%|███████▏  | 13/18 [13:48<05:10, 62.19s/it]WARNING:root:No Guinier fits found for Chris_bIgG_F52_C10_s.dat\n",
            "Running SAXS Analysis:  78%|███████▊  | 14/18 [14:20<03:33, 53.35s/it]WARNING:root:No Guinier fits found for Chris_bIgG_F52_C120_s.dat\n",
            "Running SAXS Analysis:  89%|████████▉ | 16/18 [15:11<01:16, 38.19s/it]WARNING:root:No Guinier fits found for Chris_bIgG_Hist_C20_s.dat\n",
            "Running SAXS Analysis: 100%|██████████| 18/18 [16:45<00:00, 55.85s/it]\n"
          ]
        },
        {
          "output_type": "stream",
          "name": "stdout",
          "text": [
            "End Time: 2025-06-30 01:41:31\n",
            "Total Execution Time: 1005.24 seconds\n"
          ]
        },
        {
          "output_type": "display_data",
          "data": {
            "text/plain": [
              "<IPython.core.display.Javascript object>"
            ],
            "application/javascript": [
              "\n",
              "      (async () => {\n",
              "          const context = new AudioContext();\n",
              "          const o = context.createOscillator();\n",
              "          const g = context.createGain();\n",
              "          o.type = \"sine\";\n",
              "          o.connect(g);\n",
              "          g.connect(context.destination);\n",
              "          o.start();\n",
              "          g.gain.exponentialRampToValueAtTime(0.00001, context.currentTime + 1);\n",
              "      })();\n",
              "  "
            ]
          },
          "metadata": {}
        },
        {
          "output_type": "stream",
          "name": "stdout",
          "text": [
            " Generating plots from: /content/drive/MyDrive/pip test/DCR 273  results/return_1/plot_data.joblib\n",
            "Saved PDF summary to /content/drive/MyDrive/pip test/DCR 273  results/return_1/solved_summary.pdf\n",
            "Saved flagged PDF summary to /content/drive/MyDrive/pip test/DCR 273  results/return_1/flagged_summary.pdf\n",
            "Now extracting the raw graph data for each plot in the \"plot_data\" dict\n"
          ]
        },
        {
          "output_type": "display_data",
          "data": {
            "text/plain": [
              "<IPython.core.display.Javascript object>"
            ],
            "application/javascript": [
              "\n",
              "      (async () => {\n",
              "          const context = new AudioContext();\n",
              "          const o = context.createOscillator();\n",
              "          const g = context.createGain();\n",
              "          o.type = \"sine\";\n",
              "          o.connect(g);\n",
              "          g.connect(context.destination);\n",
              "          o.start();\n",
              "          g.gain.exponentialRampToValueAtTime(0.00001, context.currentTime + 1);\n",
              "      })();\n",
              "  "
            ]
          },
          "metadata": {}
        },
        {
          "output_type": "stream",
          "name": "stdout",
          "text": [
            "\n",
            "✅ Analysis complete! Results and plots saved to:\n",
            "/content/drive/MyDrive/pip test/DCR 273  results/return_1\n"
          ]
        }
      ]
    },
    {
      "cell_type": "markdown",
      "source": [
        "Now our folder has these two returns with files having the same name. If after analyzing want to combine them to have them all in one place we can use the combine_sessions() function and we just pass the main analysis directory where these files are. This also has an optional output_name argument, which can be given if want this to be named something in paticular. The function will then also combine the dictionaries, which can be useful for if want to genrate a PDF summary report that has all your data, even if ran on different sessions. The return folders will then be moved into a new folder called partials, and the main folder will have the final results, and the plot_data dictionary that has everything combined.\n",
        "![image.png](data:image/png;base64,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)"
      ],
      "metadata": {
        "id": "QsTnViCLgLhu"
      }
    },
    {
      "cell_type": "code",
      "source": [
        "from saxs_assistant.organizer import combine_sessions\n",
        "combine_sessions('/content/drive/MyDrive/pip test/DCR 273  results')"
      ],
      "metadata": {
        "colab": {
          "base_uri": "https://localhost:8080/",
          "height": 0
        },
        "id": "rzaW9tQ1gmMP",
        "outputId": "d2f68951-b448-49af-b309-7b4296b1bf80"
      },
      "execution_count": 5,
      "outputs": [
        {
          "output_type": "stream",
          "name": "stdout",
          "text": [
            "Combined results saved as 'final_results.xlsx' and 'final_results_Plots.joblib' in /content/drive/MyDrive/pip test/DCR 273  results\n",
            "Original folders moved to '/content/drive/MyDrive/pip test/DCR 273  results/partials'\n"
          ]
        }
      ]
    },
    {
      "cell_type": "markdown",
      "source": [
        "Now in the main folder w just have our compiled results Excel, and the dictionary. The individual PDFs and partial results are in the partials folder now, within their corresponding return folder\n",
        "\n",
        "![partials.png](data:image/png;base64,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)"
      ],
      "metadata": {
        "id": "VkheiFQziEEi"
      }
    },
    {
      "cell_type": "markdown",
      "source": [
        "# Individual Functions\n",
        "\n",
        "\n",
        "You might not always want to generate the PDFs if have a lot of data as this can take awhile, in that case can use individual functions like analyze_and_save() which takes the same inputs, but won't plot-- remeber to all these functions can provide an output_dir path to indicate where you want to save your data."
      ],
      "metadata": {
        "id": "UPL-WGFoifN9"
      }
    },
    {
      "cell_type": "code",
      "source": [
        "from saxs_assistant.runner import analyze_and_save\n",
        "#and all these take the start_index, and end_index arguments optional if want to analyze portions\n",
        "analyze_and_save('/content/drive/MyDrive/pip test/DCR 273  results')"
      ],
      "metadata": {
        "id": "6hGyW8V2i4Rx"
      },
      "execution_count": null,
      "outputs": []
    },
    {
      "cell_type": "markdown",
      "source": [
        "Then whenever you want to plot or if want to plot the dictionary with all the combined data can use the plot_solved_summary() or plot_flagged() this way keep the unsolved and solved files in separate PDFs.  **If ever need to revisit this tutorial again, or want to use this notebook just do !pip intall saxs-assistant followed by saxs_assistant.show_tutorial() which will show the PDF version of this --- to use this, notebook, look through the excel sheet that says what each out put in the Excel sheet is call saxs_assistant.show_supplemental() this will open a link that has supplemental data, this notebook which you can download and use. Hope this is helpful, don't forget to alway check your results : )  Have a nice day !"
      ],
      "metadata": {
        "id": "XVcy4KeZjI9G"
      }
    },
    {
      "cell_type": "code",
      "source": [
        "from saxs_assistant.plotting import plot_solved_summary, plot_flagged\n",
        "plot_solved_summary('/content/drive/MyDrive/pip test/prev test low qual/return/plot_data.joblib')\n",
        "plot_flagged('/content/drive/MyDrive/pip test/prev test low qual/return/plot_data.joblib')"
      ],
      "metadata": {
        "id": "SSV6m_L_nblP"
      },
      "execution_count": null,
      "outputs": []
    },
    {
      "cell_type": "code",
      "source": [
        "saxs_assistant.show_tutorial()\n",
        "\n",
        "saxs_assistant.show_supplemental()"
      ],
      "metadata": {
        "id": "xom1hyIhoxXy"
      },
      "execution_count": null,
      "outputs": []
    }
  ]
}